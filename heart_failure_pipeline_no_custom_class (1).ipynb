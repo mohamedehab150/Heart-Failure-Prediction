{
 "cells": [
  {
   "cell_type": "markdown",
   "id": "6318a5ff",
   "metadata": {},
   "source": [
    "# Heart Failure Pipeline بدون كلاس مخصص\n",
    "النوت بوك ده بينشئ بايبلاين تحتوي على تنظيف القيم المتطرفة، Scaling، SMOTE، وتدريب موديل، بدون الحاجة لتعريف كلاس مخصص."
   ]
  },
  {
   "cell_type": "code",
   "execution_count": 1,
   "id": "dead8207",
   "metadata": {},
   "outputs": [],
   "source": [
    "\n",
    "import pandas as pd\n",
    "from sklearn.model_selection import train_test_split\n",
    "from sklearn.preprocessing import StandardScaler, FunctionTransformer\n",
    "from imblearn.over_sampling import SMOTE\n",
    "from imblearn.pipeline import Pipeline\n",
    "from sklearn.ensemble import RandomForestClassifier\n",
    "from sklearn.metrics import accuracy_score, classification_report\n",
    "import joblib\n"
   ]
  },
  {
   "cell_type": "code",
   "execution_count": 2,
   "id": "0407d7c0",
   "metadata": {},
   "outputs": [],
   "source": [
    "\n",
    "def handle_outliers(X_df):\n",
    "    X = X_df.copy()\n",
    "    # creatinine_phosphokinase\n",
    "    Q1 = X['creatinine_phosphokinase'].quantile(0.25)\n",
    "    Q3 = X['creatinine_phosphokinase'].quantile(0.75)\n",
    "    IQR = Q3 - Q1\n",
    "    lower_bound = Q1 - 1.5 * IQR\n",
    "    upper_bound = Q3 + 1.5 * IQR\n",
    "    median_val = X['creatinine_phosphokinase'].median()\n",
    "    X['creatinine_phosphokinase'] = X['creatinine_phosphokinase'].apply(\n",
    "        lambda x: median_val if x < lower_bound or x > upper_bound else x\n",
    "    )\n",
    "\n",
    "    # ejection_fraction\n",
    "    q01, q99 = X['ejection_fraction'].quantile([0.01, 0.99])\n",
    "    X['ejection_fraction'] = X['ejection_fraction'].clip(lower=q01, upper=q99)\n",
    "\n",
    "    # platelets\n",
    "    q01, q99 = X['platelets'].quantile([0.01, 0.99])\n",
    "    X['platelets'] = X['platelets'].clip(lower=q01, upper=q99)\n",
    "\n",
    "    # serum_creatinine\n",
    "    q01, q99 = X['serum_creatinine'].quantile([0.01, 0.99])\n",
    "    X['serum_creatinine'] = X['serum_creatinine'].clip(lower=q01, upper=q99)\n",
    "\n",
    "    return X\n"
   ]
  },
  {
   "cell_type": "code",
   "execution_count": 3,
   "id": "d650c978",
   "metadata": {},
   "outputs": [],
   "source": [
    "\n",
    "df = pd.read_csv('heart_failure_clinical_records_dataset.csv')\n",
    "X = df.drop('DEATH_EVENT', axis=1)\n",
    "y = df['DEATH_EVENT']\n",
    "\n",
    "X_train, X_test, y_train, y_test = train_test_split(\n",
    "    X, y, test_size=0.3, random_state=42, stratify=y\n",
    ")\n"
   ]
  },
  {
   "cell_type": "code",
   "execution_count": 4,
   "id": "16b545bd",
   "metadata": {},
   "outputs": [],
   "source": [
    "\n",
    "pipeline = Pipeline(steps=[\n",
    "    ('outlier_handler', FunctionTransformer(handle_outliers)),\n",
    "    ('smote', SMOTE(random_state=42)),\n",
    "    ('scaler', StandardScaler()),\n",
    "    ('model', RandomForestClassifier(\n",
    "        n_estimators=300, max_depth=15, min_samples_split=2,\n",
    "        min_samples_leaf=1, random_state=42, class_weight='balanced'\n",
    "    ))\n",
    "])"
   ]
  },
  {
   "cell_type": "code",
   "execution_count": 5,
   "id": "3b4ff13d",
   "metadata": {},
   "outputs": [
    {
     "name": "stdout",
     "output_type": "stream",
     "text": [
      "Accuracy: 0.8666666666666667\n",
      "              precision    recall  f1-score   support\n",
      "\n",
      "           0       0.92      0.89      0.90        61\n",
      "           1       0.77      0.83      0.80        29\n",
      "\n",
      "    accuracy                           0.87        90\n",
      "   macro avg       0.84      0.86      0.85        90\n",
      "weighted avg       0.87      0.87      0.87        90\n",
      "\n"
     ]
    }
   ],
   "source": [
    "\n",
    "pipeline.fit(X_train, y_train)\n",
    "\n",
    "y_pred = pipeline.predict(X_test)\n",
    "print(\"Accuracy:\", accuracy_score(y_test, y_pred))\n",
    "print(classification_report(y_test, y_pred))\n"
   ]
  },
  {
   "cell_type": "code",
   "execution_count": 6,
   "id": "2c56d13d",
   "metadata": {},
   "outputs": [
    {
     "data": {
      "text/plain": [
       "['pipeline_with_smote.pkl']"
      ]
     },
     "execution_count": 6,
     "metadata": {},
     "output_type": "execute_result"
    }
   ],
   "source": [
    "\n",
    "import joblib\n",
    "joblib.dump(pipeline, \"pipeline_with_smote.pkl\")\n"
   ]
  },
  {
   "cell_type": "code",
   "execution_count": null,
   "id": "529661d4-bd6f-45ef-af1c-323811f9eb93",
   "metadata": {},
   "outputs": [],
   "source": []
  }
 ],
 "metadata": {
  "kernelspec": {
   "display_name": "Python 3 (ipykernel)",
   "language": "python",
   "name": "python3"
  },
  "language_info": {
   "codemirror_mode": {
    "name": "ipython",
    "version": 3
   },
   "file_extension": ".py",
   "mimetype": "text/x-python",
   "name": "python",
   "nbconvert_exporter": "python",
   "pygments_lexer": "ipython3",
   "version": "3.13.5"
  }
 },
 "nbformat": 4,
 "nbformat_minor": 5
}
